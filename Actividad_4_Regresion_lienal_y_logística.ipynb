{
  "nbformat": 4,
  "nbformat_minor": 0,
  "metadata": {
    "colab": {
      "provenance": [],
      "authorship_tag": "ABX9TyPmEBdVQ/EIkQeQBZ43ivSp",
      "include_colab_link": true
    },
    "kernelspec": {
      "name": "python3",
      "display_name": "Python 3"
    },
    "language_info": {
      "name": "python"
    }
  },
  "cells": [
    {
      "cell_type": "markdown",
      "metadata": {
        "id": "view-in-github",
        "colab_type": "text"
      },
      "source": [
        "<a href=\"https://colab.research.google.com/github/AlbertoOstorga/Actividad-4/blob/main/Actividad_4_Regresion_lienal_y_log%C3%ADstica.ipynb\" target=\"_parent\"><img src=\"https://colab.research.google.com/assets/colab-badge.svg\" alt=\"Open In Colab\"/></a>"
      ]
    },
    {
      "cell_type": "code",
      "source": [
        "#Instalamos librería para análisis de variables categóricas  \n",
        "%pip install funpymodeling"
      ],
      "metadata": {
        "id": "-DauQoScJV6M"
      },
      "execution_count": null,
      "outputs": []
    },
    {
      "cell_type": "code",
      "execution_count": null,
      "metadata": {
        "id": "eWiR38qwjqDG"
      },
      "outputs": [],
      "source": [
        "#Importar librerias\n",
        "import pandas as pd\n",
        "import numpy as np\n",
        "import matplotlib.pyplot as plt\n",
        "import scipy.special as special\n",
        "from scipy.optimize import curve_fit\n",
        "import seaborn as sns\n",
        "from sklearn.metrics import r2_score\n",
        "from sklearn.model_selection import train_test_split\n",
        "from sklearn.preprocessing import StandardScaler\n",
        "from funpymodeling.exploratory import freq_tbl"
      ]
    },
    {
      "cell_type": "code",
      "source": [
        "from google.colab import files\n",
        "files.upload()"
      ],
      "metadata": {
        "id": "BGfOw-1Aj1XM"
      },
      "execution_count": null,
      "outputs": []
    },
    {
      "cell_type": "code",
      "source": [
        "Microretailer = pd.read_excel('microretailer_mit_lift_lab_actualizado.xlsx')\n",
        "Microretailer"
      ],
      "metadata": {
        "id": "foxCckqikJH3"
      },
      "execution_count": null,
      "outputs": []
    },
    {
      "cell_type": "code",
      "source": [
        "valores_nulos = Microretailer.isnull().sum()\n",
        "valores_nulos"
      ],
      "metadata": {
        "id": "HWdGf491lBxn"
      },
      "execution_count": null,
      "outputs": []
    },
    {
      "cell_type": "code",
      "source": [
        "#Rellenamos nulos\n",
        "Microretailer = Microretailer.fillna(method='ffill')"
      ],
      "metadata": {
        "id": "ce31e0DQlLI-"
      },
      "execution_count": null,
      "outputs": []
    },
    {
      "cell_type": "code",
      "source": [
        "valores_nulos = Microretailer.isnull().sum()\n",
        "valores_nulos"
      ],
      "metadata": {
        "id": "EVQfGN3tm4AM"
      },
      "execution_count": null,
      "outputs": []
    },
    {
      "cell_type": "code",
      "source": [
        "Microretailer = Microretailer.fillna(method = 'bfill')"
      ],
      "metadata": {
        "id": "mG0jcOhPm9o_"
      },
      "execution_count": null,
      "outputs": []
    },
    {
      "cell_type": "code",
      "source": [
        "valores_nulos = Microretailer.isnull().sum().sum()\n",
        "valores_nulos"
      ],
      "metadata": {
        "id": "PJ3A9Js9nFFB"
      },
      "execution_count": null,
      "outputs": []
    },
    {
      "cell_type": "code",
      "source": [
        "Microretailer"
      ],
      "metadata": {
        "id": "N67P4zlXKRQ9"
      },
      "execution_count": null,
      "outputs": []
    },
    {
      "cell_type": "markdown",
      "source": [
        "# **Outliers**"
      ],
      "metadata": {
        "id": "gAlbZNY0KMz0"
      }
    },
    {
      "cell_type": "code",
      "source": [
        "#Filtro por columnas no consecutivas\n",
        "filtro=Microretailer.iloc[:,[13,14,16,21,22,29,31,33,42,45,49,51,56,57,58,59,60,78,90]] #Columnas no consecutivas\n",
        "filtro"
      ],
      "metadata": {
        "id": "cT4k-At9oD5p"
      },
      "execution_count": null,
      "outputs": []
    },
    {
      "cell_type": "code",
      "source": [
        "#Método aplicación Cuartiles, Encuentro cuartiles 0.25 y 0.75\n",
        "y = filtro\n",
        "\n",
        "percentile25 = y.quantile(0.25) #Q1\n",
        "percentile75 = y.quantile(0.75) #Q3\n",
        "iqr = percentile75 - percentile25\n",
        "\n",
        "Limite_Superior_iqr= percentile75 + 1.5*iqr\n",
        "Limite_Inferior_iqr= percentile25 - 1.5*iqr\n",
        "print('Limite superior permitido', Limite_Superior_iqr)\n",
        "print('Limite inferior permitido', Limite_Inferior_iqr)"
      ],
      "metadata": {
        "id": "ndNlxm5woRQS"
      },
      "execution_count": null,
      "outputs": []
    },
    {
      "cell_type": "code",
      "source": [
        "outliers_iqr = filtro[(y>Limite_Superior_iqr)|(y<Limite_Inferior_iqr)]"
      ],
      "metadata": {
        "id": "dl1um8jgoY2Q"
      },
      "execution_count": null,
      "outputs": []
    },
    {
      "cell_type": "code",
      "source": [
        "data2_iqr= filtro[(y<=Limite_Superior_iqr)&(y>=Limite_Inferior_iqr)]"
      ],
      "metadata": {
        "id": "88MsPoVMoaek"
      },
      "execution_count": null,
      "outputs": []
    },
    {
      "cell_type": "code",
      "source": [
        "#Comprobamos outliers\n",
        "valores_nulos=data2_iqr.isnull().sum()\n",
        "valores_nulos"
      ],
      "metadata": {
        "id": "OhobtXADodRs"
      },
      "execution_count": null,
      "outputs": []
    },
    {
      "cell_type": "code",
      "source": [
        "#Reemplazar valores atípicos (nulos) del dataframe con \"mean\"\n",
        "data3_iqr = data2_iqr.copy()\n",
        "data3_iqr = data2_iqr.fillna(round(data3_iqr.mean(),1))"
      ],
      "metadata": {
        "id": "nHgQaoIvofZ-"
      },
      "execution_count": null,
      "outputs": []
    },
    {
      "cell_type": "code",
      "source": [
        "#Comprobamos outliers\n",
        "valores_nulos=data3_iqr.isnull().sum()\n",
        "valores_nulos"
      ],
      "metadata": {
        "id": "6rGabwAhohde"
      },
      "execution_count": null,
      "outputs": []
    },
    {
      "cell_type": "markdown",
      "source": [
        "# **Regresión lineal**"
      ],
      "metadata": {
        "id": "J0Y7q72OEIGQ"
      }
    },
    {
      "cell_type": "code",
      "source": [
        "#Se grafican mapas de dispersión de las variables 3 variables\n",
        "from turtle import color\n",
        "\n",
        "sns.scatterplot(x='2_current_permanent_employees',y='97_number_of_customers_in_store',color='blue',data=data3_iqr)\n",
        "sns.scatterplot(x='145_number_direct_competitors',y='97_number_of_customers_in_store',color='red',data=data3_iqr)\n",
        "sns.scatterplot(x='78_number_home_deliveries_week',y='97_number_of_customers_in_store',color='green',data=data3_iqr)"
      ],
      "metadata": {
        "id": "DLLK8GkXpwSg",
        "colab": {
          "base_uri": "https://localhost:8080/",
          "height": 297
        },
        "outputId": "af09117d-75ba-4704-e69c-461fec071250"
      },
      "execution_count": null,
      "outputs": [
        {
          "output_type": "execute_result",
          "data": {
            "text/plain": [
              "<matplotlib.axes._subplots.AxesSubplot at 0x7f64cef13d90>"
            ]
          },
          "metadata": {},
          "execution_count": 19
        },
        {
          "output_type": "display_data",
          "data": {
            "text/plain": [
              "<Figure size 432x288 with 1 Axes>"
            ],
            "image/png": "[encoded data removed]"
          },
          "metadata": {
            "needs_background": "light"
          }
        }
      ]
    },
    {
      "cell_type": "code",
      "source": [
        "#Declaramos las variables dependientes e independientes para la regresión lineal\n",
        "Var_Indep= data3_iqr[['2_current_permanent_employees','145_number_direct_competitors','78_number_home_deliveries_week']]\n",
        "Var_Dep = data3_iqr['97_number_of_customers_in_store']"
      ],
      "metadata": {
        "id": "3lFpyytQC_aG"
      },
      "execution_count": null,
      "outputs": []
    },
    {
      "cell_type": "code",
      "source": [
        "#Se define model como la función de regresión lineal\n",
        "from sklearn.linear_model import LinearRegression\n",
        "model = LinearRegression()"
      ],
      "metadata": {
        "id": "WahSTMVKDK7w"
      },
      "execution_count": null,
      "outputs": []
    },
    {
      "cell_type": "code",
      "source": [
        "#Verificamos la función relacionada al modelo\n",
        "type(model)"
      ],
      "metadata": {
        "colab": {
          "base_uri": "https://localhost:8080/"
        },
        "id": "I6KIR3wSDNzR",
        "outputId": "39890bc9-ff4d-4847-a7fd-353866be63fd"
      },
      "execution_count": null,
      "outputs": [
        {
          "output_type": "execute_result",
          "data": {
            "text/plain": [
              "sklearn.linear_model._base.LinearRegression"
            ]
          },
          "metadata": {},
          "execution_count": 23
        }
      ]
    },
    {
      "cell_type": "code",
      "source": [
        "#Ajustamos el modelo con las variables antes declaradas\n",
        "model.fit(X=Var_Indep, y=Var_Dep)"
      ],
      "metadata": {
        "colab": {
          "base_uri": "https://localhost:8080/"
        },
        "id": "g8d59UBoDRE6",
        "outputId": "fbd3b823-526e-4cbb-a0a9-ebbfe4a88b5f"
      },
      "execution_count": null,
      "outputs": [
        {
          "output_type": "execute_result",
          "data": {
            "text/plain": [
              "LinearRegression()"
            ]
          },
          "metadata": {},
          "execution_count": 24
        }
      ]
    },
    {
      "cell_type": "code",
      "source": [
        "#Verificamos coeficientes obtenidos para el modelo ajustado\n",
        "model.__dict__"
      ],
      "metadata": {
        "colab": {
          "base_uri": "https://localhost:8080/"
        },
        "id": "C-B4clq8DT6V",
        "outputId": "fb61bd56-082c-4d24-c8fc-0e22f6c66efd"
      },
      "execution_count": null,
      "outputs": [
        {
          "output_type": "execute_result",
          "data": {
            "text/plain": [
              "{'fit_intercept': True,\n",
              " 'normalize': 'deprecated',\n",
              " 'copy_X': True,\n",
              " 'n_jobs': None,\n",
              " 'positive': False,\n",
              " 'feature_names_in_': array(['2_current_permanent_employees', '145_number_direct_competitors',\n",
              "        '78_number_home_deliveries_week'], dtype=object),\n",
              " 'n_features_in_': 3,\n",
              " 'coef_': array([0.10392455, 0.03688242, 0.05415778]),\n",
              " '_residues': 525.1139121959028,\n",
              " 'rank_': 3,\n",
              " 'singular_': array([37.04957144, 16.86963103, 15.32478343]),\n",
              " 'intercept_': 0.7640426930967733}"
            ]
          },
          "metadata": {},
          "execution_count": 25
        }
      ]
    },
    {
      "cell_type": "code",
      "source": [
        "#Evaluamos la eficiencia del modelo obtenido por medio del coeficiente R2 Determinación\n",
        "model.score(Var_Indep,Var_Dep)"
      ],
      "metadata": {
        "colab": {
          "base_uri": "https://localhost:8080/"
        },
        "id": "1mp0W8BkDZ0s",
        "outputId": "56625c2a-e87c-4883-ad49-73b9c771383d"
      },
      "execution_count": null,
      "outputs": [
        {
          "output_type": "execute_result",
          "data": {
            "text/plain": [
              "0.010436383550985084"
            ]
          },
          "metadata": {},
          "execution_count": 26
        }
      ]
    },
    {
      "cell_type": "code",
      "source": [
        "#Predecimos los valores de total de accidentes a partir de las variables: alcohol, speeding y no previous\n",
        "y_pred= model.predict(X=data3_iqr[['2_current_permanent_employees','145_number_direct_competitors','78_number_home_deliveries_week']])\n",
        "y_pred"
      ],
      "metadata": {
        "id": "DTrmnelEDdBr"
      },
      "execution_count": null,
      "outputs": []
    },
    {
      "cell_type": "code",
      "source": [
        "#Insertamos la columna de predicciones en el Dataframe\n",
        "data3_iqr.insert(0, 'Predicciones',y_pred)\n",
        "data3_iqr"
      ],
      "metadata": {
        "id": "4SiJfImVDlfr"
      },
      "execution_count": null,
      "outputs": []
    },
    {
      "cell_type": "code",
      "source": [
        "#Visualizamos la gráfica comparativa entre el total real y el total predicho\n",
        "\n",
        "sns.scatterplot(x='2_current_permanent_employees',y='97_number_of_customers_in_store',color='blue',data=data3_iqr)\n",
        "sns.scatterplot(x='2_current_permanent_employees',y='Predicciones',color='red',data=data3_iqr)"
      ],
      "metadata": {
        "id": "gOgSvhHSDup9"
      },
      "execution_count": null,
      "outputs": []
    },
    {
      "cell_type": "code",
      "source": [
        "#Corroboramos cual es el coeficiente de Determinación de nuestro modelo\n",
        "coef_Deter=model.score(X=Var_Indep, y=Var_Dep)\n",
        "coef_Deter"
      ],
      "metadata": {
        "id": "uSIukX0DECrz",
        "colab": {
          "base_uri": "https://localhost:8080/",
          "height": 200
        },
        "outputId": "ac3ca699-8260-4852-b3e7-3d9b39561414"
      },
      "execution_count": 1,
      "outputs": [
        {
          "output_type": "error",
          "ename": "NameError",
          "evalue": "ignored",
          "traceback": [
            "\u001b[0;31m---------------------------------------------------------------------------\u001b[0m",
            "\u001b[0;31mNameError\u001b[0m                                 Traceback (most recent call last)",
            "\u001b[0;32m<ipython-input-1-cdb3b0fd1f98>\u001b[0m in \u001b[0;36m<module>\u001b[0;34m\u001b[0m\n\u001b[1;32m      1\u001b[0m \u001b[0;31m#Corroboramos cual es el coeficiente de Determinación de nuestro modelo\u001b[0m\u001b[0;34m\u001b[0m\u001b[0;34m\u001b[0m\u001b[0;34m\u001b[0m\u001b[0m\n\u001b[0;32m----> 2\u001b[0;31m \u001b[0mcoef_Deter\u001b[0m\u001b[0;34m=\u001b[0m\u001b[0mmodel\u001b[0m\u001b[0;34m.\u001b[0m\u001b[0mscore\u001b[0m\u001b[0;34m(\u001b[0m\u001b[0mX\u001b[0m\u001b[0;34m=\u001b[0m\u001b[0mVar_Indep\u001b[0m\u001b[0;34m,\u001b[0m \u001b[0my\u001b[0m\u001b[0;34m=\u001b[0m\u001b[0mVar_Dep\u001b[0m\u001b[0;34m)\u001b[0m\u001b[0;34m\u001b[0m\u001b[0;34m\u001b[0m\u001b[0m\n\u001b[0m\u001b[1;32m      3\u001b[0m \u001b[0mcoef_Deter\u001b[0m\u001b[0;34m\u001b[0m\u001b[0;34m\u001b[0m\u001b[0m\n",
            "\u001b[0;31mNameError\u001b[0m: name 'model' is not defined"
          ]
        }
      ]
    },
    {
      "cell_type": "code",
      "source": [
        "#Corroboramos cual es el coeficiente de Correlación de nuestro modelo\n",
        "coef_Correl=np.sqrt(coef_Deter)\n",
        "coef_Correl"
      ],
      "metadata": {
        "id": "4IO-SMw1EEnl"
      },
      "execution_count": null,
      "outputs": []
    },
    {
      "cell_type": "markdown",
      "source": [
        "# **Regresión logística**"
      ],
      "metadata": {
        "id": "46nZoNNxEKfz"
      }
    },
    {
      "cell_type": "code",
      "source": [
        "#Verificamos información del DataFrame\n",
        "Microretailer.info()"
      ],
      "metadata": {
        "colab": {
          "base_uri": "https://localhost:8080/"
        },
        "id": "SsgfbOdiENHP",
        "outputId": "0946c823-5d26-4c60-88cc-36d6c6ae8435"
      },
      "execution_count": null,
      "outputs": [
        {
          "output_type": "stream",
          "name": "stdout",
          "text": [
            "<class 'pandas.core.frame.DataFrame'>\n",
            "RangeIndex: 330 entries, 0 to 329\n",
            "Columns: 106 entries, _record_id to 235_email\n",
            "dtypes: float64(20), int64(2), object(84)\n",
            "memory usage: 273.4+ KB\n"
          ]
        }
      ]
    },
    {
      "cell_type": "code",
      "source": [
        "#Declaramos las variables dependientes e independientes para la regresión logística\n",
        "Var_Indep = Microretailer[['145_number_direct_competitors','97_number_of_customers_in_store','268_number_fridges']]\n",
        "Var_Dep = Microretailer['310_burnout']"
      ],
      "metadata": {
        "id": "H3JNuv6QKHyT"
      },
      "execution_count": null,
      "outputs": []
    },
    {
      "cell_type": "code",
      "source": [
        "#Redefinimos las variables\n",
        "X = Var_Indep\n",
        "y = Var_Dep"
      ],
      "metadata": {
        "id": "IXTOSsb6LO5Z"
      },
      "execution_count": null,
      "outputs": []
    },
    {
      "cell_type": "code",
      "source": [
        "#Dividimos el conjunto de datos en la parte de entrenamiento y prueba\n",
        "X_train, X_test, y_train, y_test = train_test_split(X, y, test_size=0.20, random_state=None)"
      ],
      "metadata": {
        "id": "6IOWnFZQLRBK"
      },
      "execution_count": null,
      "outputs": []
    },
    {
      "cell_type": "code",
      "source": [
        "#Se escalan todos los datos\n",
        "escalar = StandardScaler()"
      ],
      "metadata": {
        "id": "5tYGROPILS_d"
      },
      "execution_count": null,
      "outputs": []
    },
    {
      "cell_type": "code",
      "source": [
        "#Para realizar el escalamiento de las variables 'x' tanto de entrenamiento como de prueba, utilizamos\n",
        "X_train = escalar.fit_transform(X_train)\n",
        "X_test = escalar.transform(X_test)"
      ],
      "metadata": {
        "id": "inD4QHa-LU8d"
      },
      "execution_count": null,
      "outputs": []
    },
    {
      "cell_type": "code",
      "source": [
        "#Definimos al algoritmo a utilizar\n",
        "from sklearn.linear_model import LogisticRegression\n",
        "algoritmo = LogisticRegression()"
      ],
      "metadata": {
        "id": "NGpDYSVrMIq3"
      },
      "execution_count": null,
      "outputs": []
    },
    {
      "cell_type": "code",
      "source": [
        "#Entrenamos el modelo\n",
        "algoritmo.fit(X_train, y_train)"
      ],
      "metadata": {
        "colab": {
          "base_uri": "https://localhost:8080/"
        },
        "id": "ju6ih9-sMKtG",
        "outputId": "2e16172e-6404-4e45-cbac-6eadcb06f89f"
      },
      "execution_count": null,
      "outputs": [
        {
          "output_type": "execute_result",
          "data": {
            "text/plain": [
              "LogisticRegression()"
            ]
          },
          "metadata": {},
          "execution_count": 58
        }
      ]
    },
    {
      "cell_type": "code",
      "source": [
        "#Realizamos una predicción\n",
        "y_pred = algoritmo.predict(X_test)\n",
        "y_pred"
      ],
      "metadata": {
        "colab": {
          "base_uri": "https://localhost:8080/"
        },
        "id": "ocJiixMzMMyB",
        "outputId": "f8b8a643-bab1-4f0d-8f64-2c8ef53ec58b"
      },
      "execution_count": null,
      "outputs": [
        {
          "output_type": "execute_result",
          "data": {
            "text/plain": [
              "array(['yes', 'no', 'no', 'yes', 'no', 'no', 'no', 'no', 'no', 'no', 'no',\n",
              "       'yes', 'no', 'yes', 'no', 'no', 'no', 'no', 'no', 'yes', 'no',\n",
              "       'no', 'no', 'no', 'no', 'no', 'no', 'no', 'no', 'no', 'no', 'no',\n",
              "       'no', 'no', 'no', 'no', 'no', 'no', 'no', 'no', 'no', 'no', 'no',\n",
              "       'no', 'no', 'yes', 'yes', 'no', 'no', 'no', 'no', 'no', 'no', 'no',\n",
              "       'no', 'no', 'no', 'no', 'no', 'no', 'no', 'no', 'no', 'no', 'yes',\n",
              "       'no'], dtype=object)"
            ]
          },
          "metadata": {},
          "execution_count": 59
        }
      ]
    },
    {
      "cell_type": "code",
      "source": [
        "#Verifico la matriz de Confusión\n",
        "from sklearn.metrics import confusion_matrix\n",
        "Matriz = confusion_matrix(y_test, y_pred)\n",
        "print('Matriz de Confusión')\n",
        "print(Matriz)"
      ],
      "metadata": {
        "colab": {
          "base_uri": "https://localhost:8080/"
        },
        "id": "qaSC2ZF_MPBd",
        "outputId": "1259239a-f222-49b6-d40c-47752ab7d3cd"
      },
      "execution_count": null,
      "outputs": [
        {
          "output_type": "stream",
          "name": "stdout",
          "text": [
            "Matriz de Confusión\n",
            "[[30  5]\n",
            " [28  3]]\n"
          ]
        }
      ]
    },
    {
      "cell_type": "code",
      "source": [
        "#Cálculo la precisión del modelo\n",
        "from sklearn.metrics import precision_score\n",
        "\n",
        "precision = precision_score(y_test, y_pred, average='binary', pos_label='yes')\n",
        "print('Precisión del modelo')\n",
        "print(precision)"
      ],
      "metadata": {
        "colab": {
          "base_uri": "https://localhost:8080/"
        },
        "id": "VYf0U2cKMRuH",
        "outputId": "8d051ec2-0c48-4acb-bcfa-9e556a886b30"
      },
      "execution_count": null,
      "outputs": [
        {
          "output_type": "stream",
          "name": "stdout",
          "text": [
            "Precisión del modelo\n",
            "0.375\n"
          ]
        }
      ]
    },
    {
      "cell_type": "code",
      "source": [
        "#Calculo la exactitud del modelo\n",
        "from sklearn.metrics import accuracy_score\n",
        "\n",
        "exactitud = accuracy_score(y_test, y_pred)\n",
        "print('Exactitud del modelo')\n",
        "print(exactitud)"
      ],
      "metadata": {
        "colab": {
          "base_uri": "https://localhost:8080/"
        },
        "id": "9DHh1w46MVFk",
        "outputId": "88c994e4-8637-4817-b05c-f80a48206789"
      },
      "execution_count": null,
      "outputs": [
        {
          "output_type": "stream",
          "name": "stdout",
          "text": [
            "Exactitud del modelo\n",
            "0.5\n"
          ]
        }
      ]
    },
    {
      "cell_type": "code",
      "source": [
        "#Calculo de la sensibilidad del modelo\n",
        "from sklearn.metrics import recall_score\n",
        "\n",
        "sensibilidad = recall_score(y_test, y_pred, average = 'binary', pos_label= 'yes')\n",
        "print('Sensibilidad del modelo')\n",
        "print(sensibilidad)"
      ],
      "metadata": {
        "colab": {
          "base_uri": "https://localhost:8080/"
        },
        "id": "CWRnlx2WMXDs",
        "outputId": "33444c47-0c90-4286-e7e7-cd4da11de462"
      },
      "execution_count": null,
      "outputs": [
        {
          "output_type": "stream",
          "name": "stdout",
          "text": [
            "Sensibilidad del modelo\n",
            "0.0967741935483871\n"
          ]
        }
      ]
    }
  ]
}